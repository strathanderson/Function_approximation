{
 "cells": [
  {
   "cell_type": "code",
   "execution_count": 41,
   "metadata": {},
   "outputs": [],
   "source": [
    "import numpy as np\n",
    "from scipy.linalg import eig\n",
    "from numpy.linalg import cond\n",
    "\n",
    "np.random.seed(0)\n",
    "def print_results(eigenvalues, condition_number):\n",
    "    print(\"Eigenvalues:\")\n",
    "    print(eigenvalues)\n",
    "    print(\"=\"*80)\n",
    "    print(\"Condition Number: {:.4e}\".format(condition_number))\n",
    "\n",
    "def compute_eigenvalues_and_condition_number(n, R):\n",
    "    np.random.seed(0)\n",
    "    # Generate randomly weights and biases and split into two\n",
    "    b = R * np.random.rand(2 * n)\n",
    "    w = R * np.random.rand(2 * n)\n",
    "    b1, b2 = b[:n], b[n:]\n",
    "    w1, w2 = w[:n], w[n:]\n",
    "    \n",
    "    \n",
    "    print(\"b:\", b)\n",
    "    L = np.pi  # size of the interval\n",
    "    delta = L / 8  # overlap\n",
    "    \n",
    "    # Initialize matrices\n",
    "    M1 = np.zeros((n, n))\n",
    "    M1t = np.zeros((n, n))\n",
    "    M2 = np.zeros((n, n))\n",
    "    M2t = np.zeros((n, n))\n",
    "    M12 = np.zeros((n, n))\n",
    "    \n",
    "    for i in range(n):\n",
    "        for j in range(n):\n",
    "            # Compute for M1 and M1t\n",
    "            wij = w1[i] - w1[j]\n",
    "            vij = w1[i] + w1[j]\n",
    "            bij = b1[i] - b1[j]\n",
    "            cij = b1[i] + b1[j]\n",
    "            if wij != 0:\n",
    "                M1[i, j] = -(np.sin(0.5 * vij * L + vij * delta + cij) * wij -\n",
    "                             np.sin(0.5 * wij * L + wij * delta + bij) * vij -\n",
    "                             np.sin(cij) * wij + np.sin(bij) * vij) / (vij * wij)\n",
    "                M1t[i, j] = -1 / (delta**2 * wij**3 * vij**3) * (\n",
    "                    2 * (2 * np.sin(0.5 * wij * L - wij * delta + bij) * delta**2 * vij**3 * wij**2 -\n",
    "                         2 * np.sin(0.5 * vij * L - vij * delta + cij) * delta**2 * vij**2 * wij**3 -\n",
    "                         2 * np.cos(0.5 * wij * L - wij * delta + bij) * delta * vij**3 * wij +\n",
    "                         2 * np.cos(0.5 * vij * L - vij * delta + cij) * delta * vij * wij**3 +\n",
    "                         vij**3 * np.sin(0.5 * wij * L + wij * delta + bij) -\n",
    "                         np.sin(0.5 * vij * L + vij * delta + cij) * wij**3 -\n",
    "                         vij**3 * np.sin(0.5 * wij * L - wij * delta + bij) +\n",
    "                         np.sin(0.5 * vij * L - vij * delta + cij) * wij**3))\n",
    "            else:\n",
    "                M1[i, j] = (np.cos(bij) * w1[i] * L + 2 * np.cos(bij) * w1[i] * delta +\n",
    "                            np.sin(cij) - np.sin(L * w1[i] + 2 * delta * w1[i] + cij)) / (2 * w1[i])\n",
    "                M1t[i, j] = 1 / (12 * delta**2 * w1[i]**3) * (\n",
    "                    32 * np.cos(bij) * delta**3 * w1[i]**3 +\n",
    "                    24 * delta**2 * np.sin(L * w1[i] - 2 * delta * w1[i] + cij) * w1[i]**2 -\n",
    "                    12 * np.cos(L * w1[i] - 2 * delta * w1[i] + cij) * delta * w1[i] +\n",
    "                    3 * np.sin(L * w1[i] + 2 * delta * w1[i] + cij) -\n",
    "                    3 * np.sin(L * w1[i] - 2 * delta * w1[i] + cij))\n",
    "            \n",
    "            # Compute for M2 and M2t\n",
    "            wij = w2[i] - w2[j]\n",
    "            vij = w2[i] + w2[j]\n",
    "            bij = b2[i] - b2[j]\n",
    "            cij = b2[i] + b2[j]\n",
    "            if wij != 0:\n",
    "                M2[i, j] = -(np.sin(0.5 * vij * L + vij * delta + cij) * wij -\n",
    "                             np.sin(0.5 * wij * L + wij * delta + bij) * vij -\n",
    "                             np.sin(cij) * wij + np.sin(bij) * vij) / (vij * wij)\n",
    "                M2t[i, j] = 1 / (delta**2 * wij**3 * vij**3) * (\n",
    "                    2 * (2 * np.sin(0.5 * wij * L + wij * delta + bij) * delta**2 * vij**3 * wij**2 -\n",
    "                         2 * np.sin(0.5 * vij * L + vij * delta + cij) * delta**2 * vij**2 * wij**3 +\n",
    "                         2 * np.cos(0.5 * wij * L + wij * delta + bij) * delta * vij**3 * wij -\n",
    "                         2 * np.cos(0.5 * vij * L + vij * delta + cij) * delta * vij * wij**3 -\n",
    "                         vij**3 * np.sin(0.5 * wij * L + wij * delta + bij) +\n",
    "                         np.sin(0.5 * vij * L + vij * delta + cij) * wij**3 +\n",
    "                         vij**3 * np.sin(0.5 * wij * L - wij * delta + bij) -\n",
    "                         np.sin(0.5 * vij * L - vij * delta + cij) * wij**3))\n",
    "            else:\n",
    "                M2[i, j] = (np.cos(bij) * w2[i] * L + 2 * np.cos(bij) * w2[i] * delta +\n",
    "                            np.sin(cij) - np.sin(L * w2[i] + 2 * delta * w2[i] + cij)) / (2 * w2[i])\n",
    "                M2t[i, j] = -1 / (12 * delta**2 * w2[i]**3) * (\n",
    "                    -32 * np.cos(bij) * delta**3 * w2[i]**3 +\n",
    "                    24 * delta**2 * np.sin(L * w2[i] + 2 * delta * w2[i] + cij) * w2[i]**2 +\n",
    "                    12 * np.cos(L * w2[i] + 2 * delta * w2[i] + cij) * delta * w2[i] -\n",
    "                    3 * np.sin(L * w2[i] + 2 * delta * w2[i] + cij) +\n",
    "                    3 * np.sin(L * w2[i] - 2 * delta * w2[i] + cij))\n",
    "            \n",
    "            # Compute for M12\n",
    "            wij = w1[i] - w2[j]\n",
    "            vij = w1[i] + w2[j]\n",
    "            bij = b1[i] - b2[j]\n",
    "            cij = b1[i] + b2[j]\n",
    "            if wij != 0:\n",
    "                M12[i, j] = -1 / (delta**2 * wij**3 * vij**3) * (\n",
    "                    2 * (np.cos(0.5 * wij * L + wij * delta + bij) * delta * vij**3 * wij -\n",
    "                         np.cos(0.5 * vij * L + vij * delta + cij) * delta * vij * wij**3 +\n",
    "                         np.cos(0.5 * wij * L - wij * delta + bij) * delta * vij**3 * wij -\n",
    "                         np.cos(0.5 * vij * L - vij * delta + cij) * delta * vij * wij**3 -\n",
    "                         vij**3 * np.sin(0.5 * wij * L + wij * delta + bij) +\n",
    "                         np.sin(0.5 * vij * L + vij * delta + cij) * wij**3 +\n",
    "                         vij**3 * np.sin(0.5 * wij * L - wij * delta + bij) -\n",
    "                         np.sin(0.5 * vij * L - vij * delta + cij) * wij**3))\n",
    "            else:\n",
    "                M12[i, j] = 1 / (12 * delta**2 * w1[i]**3) * (\n",
    "                    16 * np.cos(bij) * delta**3 * w1[i]**3 +\n",
    "                    6 * np.cos(L * w1[i] + 2 * delta * w1[i] + cij) * delta * w1[i] +\n",
    "                    6 * np.cos(L * w1[i] - 2 * delta * w1[i] + cij) * delta * w1[i] -\n",
    "                    3 * np.sin(L * w1[i] + 2 * delta * w1[i] + cij) +\n",
    "                    3 * np.sin(L * w1[i] - 2 * delta * w1[i] + cij))\n",
    "\n",
    "    # Form the full matrix\n",
    "    M_full = np.block([[M1 + M1t, M12], [M12.T, M2 + M2t]])\n",
    "    \n",
    "    # Compute eigenvalues\n",
    "    eigenvalues = eig(M_full)[0]\n",
    "    \n",
    "    # Compute condition number\n",
    "    condition_number = cond(M_full)\n",
    "    \n",
    "    print_results(eigenvalues, condition_number)\n",
    "    \n",
    "    return eigenvalues, condition_number, M1, M1t, M2, M2t, M12, M_full"
   ]
  },
  {
   "cell_type": "code",
   "execution_count": 42,
   "metadata": {},
   "outputs": [],
   "source": [
    "def condition(matrix):\n",
    "    condition_number = np.linalg.cond(matrix)\n",
    "    print(\"Condition Number: {:.4e}\".format(condition_number))\n",
    "    return "
   ]
  },
  {
   "cell_type": "code",
   "execution_count": 43,
   "metadata": {},
   "outputs": [],
   "source": [
    "#Single basis function - Neural Network\n",
    "def single_neural_net(x,weights,biases,i, sigma): \n",
    "\n",
    "    return sigma(weights[i]*x+biases[i])\n"
   ]
  },
  {
   "cell_type": "code",
   "execution_count": 44,
   "metadata": {},
   "outputs": [],
   "source": [
    "#Basis function multiplication helper for quadrature\n",
    "def double_neural_net(x,weights,biases,i,j, sigma): \n",
    "\n",
    "    return single_neural_net(x,weights,biases,i,sigma)*single_neural_net(x,weights,biases,j,sigma)"
   ]
  },
  {
   "cell_type": "code",
   "execution_count": 45,
   "metadata": {},
   "outputs": [],
   "source": [
    "# #Function to build the mass matrix - M\n",
    "# from scipy.integrate import quad\n",
    "\n",
    "# def mass_matrix(func,sigma, weights, biases, n):\n",
    "#     M = np.zeros([n, n])\n",
    "    \n",
    "#     for i in range(0, n):\n",
    "#         for j in range(0, n):\n",
    "#             M[i, j] = quad(func, 0, 1, args=(weights, biases,i+1,j+1,sigma), limit=1000)[0]\n",
    "\n",
    "#     return M"
   ]
  },
  {
   "cell_type": "code",
   "execution_count": 46,
   "metadata": {},
   "outputs": [
    {
     "name": "stdout",
     "output_type": "stream",
     "text": [
      "b: [0.5488135  0.71518937 0.60276338 0.54488318 0.4236548  0.64589411\n",
      " 0.43758721 0.891773   0.96366276 0.38344152]\n",
      "Eigenvalues:\n",
      "[2.36430835e+01+0.j 1.49835869e+01+0.j 2.14430407e-01+0.j\n",
      " 3.33888130e-02+0.j 2.85862638e-02+0.j 7.53083402e-03+0.j\n",
      " 1.50216092e-06+0.j 9.72061690e-07+0.j 1.14866417e-07+0.j\n",
      " 4.00020866e-08+0.j]\n",
      "================================================================================\n",
      "Condition Number: 5.9105e+08\n"
     ]
    }
   ],
   "source": [
    "n = 5 #half the number of neurons\n",
    "R = 1 #sample range -R,R\n",
    "eigenvalues, condition_number, M1, M1t, M2, M2t, M12, M_full = compute_eigenvalues_and_condition_number(n, R)"
   ]
  },
  {
   "cell_type": "code",
   "execution_count": 47,
   "metadata": {},
   "outputs": [
    {
     "data": {
      "text/plain": [
       "array([[3.07813807, 3.1521907 , 3.05518832, 3.02389928, 1.64122787],\n",
       "       [3.1521907 , 3.23766996, 3.13585845, 3.09187144, 1.68992668],\n",
       "       [3.05518832, 3.13585845, 3.0412478 , 2.99201481, 1.63451897],\n",
       "       [3.02389928, 3.09187144, 2.99201481, 2.98253788, 1.60992658],\n",
       "       [1.64122787, 1.68992668, 1.63451897, 1.60992658, 0.88438615]])"
      ]
     },
     "execution_count": 47,
     "metadata": {},
     "output_type": "execute_result"
    }
   ],
   "source": [
    "M1"
   ]
  },
  {
   "cell_type": "code",
   "execution_count": 48,
   "metadata": {},
   "outputs": [
    {
     "name": "stdout",
     "output_type": "stream",
     "text": [
      "Condition Number: 1.3335e+08\n"
     ]
    }
   ],
   "source": [
    "condition(M1)"
   ]
  },
  {
   "cell_type": "code",
   "execution_count": 49,
   "metadata": {},
   "outputs": [
    {
     "name": "stdout",
     "output_type": "stream",
     "text": [
      "Condition Number: 1.8465e+08\n"
     ]
    }
   ],
   "source": [
    "condition(M1+M1t)"
   ]
  },
  {
   "cell_type": "code",
   "execution_count": 50,
   "metadata": {},
   "outputs": [
    {
     "name": "stdout",
     "output_type": "stream",
     "text": [
      "Condition Number: 3.0066e+12\n"
     ]
    }
   ],
   "source": [
    "condition(M1t)"
   ]
  },
  {
   "cell_type": "code",
   "execution_count": 51,
   "metadata": {},
   "outputs": [
    {
     "data": {
      "text/plain": [
       "3.5849025544895294"
      ]
     },
     "execution_count": 51,
     "metadata": {},
     "output_type": "execute_result"
    }
   ],
   "source": [
    "np.linalg.norm(M12,ord=2)"
   ]
  },
  {
   "cell_type": "code",
   "execution_count": 52,
   "metadata": {},
   "outputs": [
    {
     "name": "stdout",
     "output_type": "stream",
     "text": [
      "b: [1.09762701 1.43037873 1.20552675 1.08976637 0.8473096  1.29178823\n",
      " 0.87517442 1.783546  ]\n",
      "Eigenvalues:\n",
      "[1.25101966e+01+0.j 7.26889534e+00+0.j 4.41924231e+00+0.j\n",
      " 3.27128525e+00+0.j 1.06663009e-01+0.j 1.51631672e-02+0.j\n",
      " 1.59059842e-03+0.j 4.55830353e-04+0.j]\n",
      "================================================================================\n",
      "Condition Number: 2.7445e+04\n"
     ]
    },
    {
     "ename": "ValueError",
     "evalue": "too many values to unpack (expected 2)",
     "output_type": "error",
     "traceback": [
      "\u001b[0;31m---------------------------------------------------------------------------\u001b[0m",
      "\u001b[0;31mValueError\u001b[0m                                Traceback (most recent call last)",
      "Cell \u001b[0;32mIn[52], line 3\u001b[0m\n\u001b[1;32m      1\u001b[0m n \u001b[39m=\u001b[39m \u001b[39m4\u001b[39m\n\u001b[1;32m      2\u001b[0m R \u001b[39m=\u001b[39m \u001b[39m2\u001b[39m\n\u001b[0;32m----> 3\u001b[0m eigenvalues, condition_number \u001b[39m=\u001b[39m compute_eigenvalues_and_condition_number(n, R)\n",
      "\u001b[0;31mValueError\u001b[0m: too many values to unpack (expected 2)"
     ]
    }
   ],
   "source": [
    "n = 4\n",
    "R = 2\n",
    "eigenvalues, condition_number = compute_eigenvalues_and_condition_number(n, R)"
   ]
  },
  {
   "cell_type": "code",
   "execution_count": null,
   "metadata": {},
   "outputs": [
    {
     "name": "stdout",
     "output_type": "stream",
     "text": [
      "Eigenvalues:\n",
      "[12.28223669+0.j  7.89848349+0.j  3.48930954+0.j  4.4315811 +0.j\n",
      "  1.57181191+0.j  0.09364597+0.j  0.01704627+0.j  0.02516108+0.j]\n",
      "================================================================================\n",
      "Condition Number: 7.2052e+02\n"
     ]
    }
   ],
   "source": [
    "n = 4\n",
    "R = 4\n",
    "eigenvalues, condition_number = compute_eigenvalues_and_condition_number(n, R)"
   ]
  },
  {
   "cell_type": "code",
   "execution_count": null,
   "metadata": {},
   "outputs": [
    {
     "name": "stdout",
     "output_type": "stream",
     "text": [
      "Eigenvalues:\n",
      "[6.09601896+0.j 0.54438559+0.j 0.22379801+0.j 3.74647399+0.j\n",
      " 1.73466476+0.j 2.98117901+0.j 2.6520627 +0.j 2.18486887+0.j]\n",
      "================================================================================\n",
      "Condition Number: 2.7239e+01\n"
     ]
    }
   ],
   "source": [
    "n = 4\n",
    "R = 8\n",
    "eigenvalues, condition_number = compute_eigenvalues_and_condition_number(n, R)"
   ]
  },
  {
   "cell_type": "code",
   "execution_count": null,
   "metadata": {},
   "outputs": [
    {
     "name": "stdout",
     "output_type": "stream",
     "text": [
      "Eigenvalues:\n",
      "[7.75251439+0.j 5.44372028+0.j 0.21695148+0.j 0.15795116+0.j\n",
      " 4.24947659+0.j 2.12558577+0.j 2.35326411+0.j 2.4416427 +0.j]\n",
      "================================================================================\n",
      "Condition Number: 4.9082e+01\n"
     ]
    }
   ],
   "source": [
    "n = 4\n",
    "R = 16\n",
    "eigenvalues, condition_number = compute_eigenvalues_and_condition_number(n, R)"
   ]
  },
  {
   "cell_type": "code",
   "execution_count": null,
   "metadata": {},
   "outputs": [
    {
     "name": "stdout",
     "output_type": "stream",
     "text": [
      "Eigenvalues:\n",
      "[6.98804737+0.j 3.9747343 +0.j 3.80555758+0.j 3.22693616+0.j\n",
      " 2.77309122+0.j 2.1395721 +0.j 2.26863304+0.j 2.51627315+0.j]\n",
      "================================================================================\n",
      "Condition Number: 3.2661e+00\n"
     ]
    }
   ],
   "source": [
    "n = 4\n",
    "R = 32\n",
    "eigenvalues, condition_number = compute_eigenvalues_and_condition_number(n, R)"
   ]
  },
  {
   "cell_type": "code",
   "execution_count": null,
   "metadata": {},
   "outputs": [
    {
     "name": "stdout",
     "output_type": "stream",
     "text": [
      "Eigenvalues:\n",
      "[0.41000069+0.j 5.69316853+0.j 5.44516124+0.j 1.20540439+0.j\n",
      " 2.34402466+0.j 3.00998751+0.j 3.25009673+0.j 3.19277815+0.j]\n",
      "================================================================================\n",
      "Condition Number: 1.3886e+01\n"
     ]
    }
   ],
   "source": [
    "n = 4\n",
    "R = 64\n",
    "eigenvalues, condition_number = compute_eigenvalues_and_condition_number(n, R)"
   ]
  },
  {
   "cell_type": "code",
   "execution_count": null,
   "metadata": {},
   "outputs": [
    {
     "name": "stdout",
     "output_type": "stream",
     "text": [
      "Eigenvalues:\n",
      "[3.80429291+0.j 2.28430222+0.j 2.8164818 +0.j 2.90100227+0.j\n",
      " 3.07534272+0.j 3.04236265+0.j 2.95873785+0.j 2.99550959+0.j]\n",
      "================================================================================\n",
      "Condition Number: 1.6654e+00\n"
     ]
    }
   ],
   "source": [
    "n = 4\n",
    "R = 128\n",
    "eigenvalues, condition_number = compute_eigenvalues_and_condition_number(n, R)"
   ]
  },
  {
   "cell_type": "code",
   "execution_count": null,
   "metadata": {},
   "outputs": [
    {
     "name": "stdout",
     "output_type": "stream",
     "text": [
      "Eigenvalues:\n",
      "[8.40460193+0.j 6.224773  +0.j 0.12313323+0.j 0.17962945+0.j\n",
      " 1.06869016+0.j 3.78241023+0.j 3.55962586+0.j 3.05814846+0.j]\n",
      "================================================================================\n",
      "Condition Number: 6.8256e+01\n"
     ]
    }
   ],
   "source": [
    "n = 4\n",
    "R = 8\n",
    "eigenvalues, condition_number = compute_eigenvalues_and_condition_number(n, R)"
   ]
  },
  {
   "cell_type": "code",
   "execution_count": null,
   "metadata": {},
   "outputs": [
    {
     "name": "stdout",
     "output_type": "stream",
     "text": [
      "Eigenvalues:\n",
      "[6.38416303+0.j 5.44282547+0.j 0.11727376+0.j 4.28808689+0.j\n",
      " 1.57731915+0.j 3.96262209+0.j 1.78033238+0.j 1.98073454+0.j\n",
      " 2.07974379+0.j 3.72381952+0.j 3.60906129+0.j 2.26056716+0.j\n",
      " 3.34748239+0.j 3.27859124+0.j 3.29757153+0.j 2.45115268+0.j\n",
      " 2.89296455+0.j 2.71246993+0.j 2.67460149+0.j 2.69235775+0.j]\n",
      "================================================================================\n",
      "Condition Number: 5.4438e+01\n"
     ]
    }
   ],
   "source": [
    "n = 10\n",
    "R = 128\n",
    "eigenvalues, condition_number = compute_eigenvalues_and_condition_number(n, R)"
   ]
  }
 ],
 "metadata": {
  "kernelspec": {
   "display_name": "tf",
   "language": "python",
   "name": "python3"
  },
  "language_info": {
   "codemirror_mode": {
    "name": "ipython",
    "version": 3
   },
   "file_extension": ".py",
   "mimetype": "text/x-python",
   "name": "python",
   "nbconvert_exporter": "python",
   "pygments_lexer": "ipython3",
   "version": "3.10.11 (main, Apr 20 2023, 19:02:41) [GCC 11.2.0]"
  },
  "orig_nbformat": 4,
  "vscode": {
   "interpreter": {
    "hash": "6818c013192d840514133cc15ea0bc15bb95d666290febd40d542c4e37363947"
   }
  }
 },
 "nbformat": 4,
 "nbformat_minor": 2
}
