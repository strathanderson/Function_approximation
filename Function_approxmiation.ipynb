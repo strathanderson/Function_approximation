{
 "cells": [
  {
   "cell_type": "code",
   "execution_count": 540,
   "metadata": {},
   "outputs": [],
   "source": [
    "import numpy as np\n",
    "np.random.seed(0)\n",
    "\n",
    "#Activation functions\n",
    "\n",
    "def sin_function(x):\n",
    "    return np.sin(x)\n",
    "\n",
    "def relu(x):\n",
    "    return np.maximum(0, x)\n",
    "\n",
    "def tanh(x):\n",
    "    return np.tanh(x)\n",
    "\n",
    "#Function to approximate\n",
    "def f(x):\n",
    "    return np.sin(3*np.pi*x + 3*np.pi/20) * np.cos(2*np.pi*x + np.pi/10) + 2\n"
   ]
  },
  {
   "cell_type": "code",
   "execution_count": 541,
   "metadata": {},
   "outputs": [],
   "source": [
    "#Function to build the mass matrix - M\n",
    "from scipy.integrate import quad\n",
    "\n",
    "def mass_matrix(func,sigma, weights, biases, neurons):\n",
    "    M = np.zeros([neurons, neurons])\n",
    "    \n",
    "    for i in range(0, neurons):\n",
    "        for j in range(0, neurons):\n",
    "            M[i, j] = quad(func, 0, 1, args=(weights, biases,i+1,j+1,sigma), limit=1000)[0]\n",
    "\n",
    "    return M"
   ]
  },
  {
   "cell_type": "code",
   "execution_count": 542,
   "metadata": {},
   "outputs": [],
   "source": [
    "#Single basis function - Neural Network\n",
    "def single_neural_net(x,weights,biases,i, sigma): \n",
    "\n",
    "    return sigma(weights[i]*x+biases[i])\n"
   ]
  },
  {
   "cell_type": "code",
   "execution_count": 543,
   "metadata": {},
   "outputs": [],
   "source": [
    "#Basis function multiplication helper for quadrature\n",
    "def double_neural_net(x,weights,biases,i,j, sigma): \n",
    "\n",
    "    return single_neural_net(x,weights,biases,i-1,sigma)*single_neural_net(x,weights,biases,j-1,sigma)\n",
    "    #return sigma(x-(i/n))*sigma(x-(j/n))"
   ]
  },
  {
   "cell_type": "code",
   "execution_count": 544,
   "metadata": {},
   "outputs": [],
   "source": [
    "#Bias helper function for quadrature\n",
    "def b_neural_net(x, weights, biases,i, sigma,f):\n",
    "    return single_neural_net(x,weights,biases,i, sigma)*f(x)\n"
   ]
  },
  {
   "cell_type": "code",
   "execution_count": 545,
   "metadata": {},
   "outputs": [],
   "source": [
    "#quadrature for the bias matrix - B\n",
    "def b_matrix(func,sigma, weights, biases,f, neurons):\n",
    "    b = np.zeros([neurons, 1])\n",
    "    for i in range(0, neurons):\n",
    "            b[i] = quad(func, 0, 1, args=(weights, biases,i,sigma,f), limit=1000)[0]\n",
    "\n",
    "    return b"
   ]
  },
  {
   "cell_type": "code",
   "execution_count": 546,
   "metadata": {},
   "outputs": [],
   "source": [
    "#Function to build the approximation vector\n",
    "def u_nn(x, weights, biases, sigma,collocation, neurons, a):\n",
    "    u = np.zeros(collocation)\n",
    "    \n",
    "    for j in range(0,collocation):\n",
    "        for i in range(0,neurons):\n",
    "            \n",
    "            u[j] += single_neural_net(x[j], weights, biases, i, sigma)*a[i]\n",
    "        \n",
    "    return u\n"
   ]
  },
  {
   "cell_type": "code",
   "execution_count": 547,
   "metadata": {},
   "outputs": [],
   "source": [
    "#helper function for eigenvalues and eigenvectors\n",
    "from scipy.linalg import eig\n",
    "def get_eig(M):\n",
    "    D,V = eig(M, left=False, right=True)\n",
    "\n",
    "\n",
    "    idx = D.argsort()[::-1]   \n",
    "    D = D[idx]\n",
    "    V = V[:,idx]\n",
    "\n",
    "    D = np.flip(D)\n",
    "    V = np.fliplr(V)\n",
    "\n",
    "    return D,V"
   ]
  },
  {
   "cell_type": "code",
   "execution_count": 548,
   "metadata": {},
   "outputs": [],
   "source": [
    "#Function to calculate L2 loss\n",
    "def l2_loss(f_x, u_nn_result):\n",
    "    return np.linalg.norm(f_x - u_nn_result)**2"
   ]
  },
  {
   "cell_type": "code",
   "execution_count": 549,
   "metadata": {},
   "outputs": [],
   "source": [
    "#Function to build the Phi matrix, made up of n basis functions\n",
    "def phi_matrix(x,weights,biases,sigma,neurons,collocation):\n",
    "    phi = np.zeros((collocation,neurons))\n",
    "    for i in range(0,neurons):\n",
    "        for j in range(0,collocation):\n",
    "\n",
    "            phi[j,i] = sigma(weights[i]*x[j]+biases[i])\n",
    "    return phi\n"
   ]
  },
  {
   "cell_type": "code",
   "execution_count": 550,
   "metadata": {},
   "outputs": [],
   "source": [
    "collocation = 100\n",
    "neurons = 10  \n",
    "x = np.linspace(0,1,collocation)\n",
    "weights = np.random.uniform(-1,1,neurons)\n",
    "biases = np.random.uniform(-1,1,neurons)"
   ]
  },
  {
   "cell_type": "code",
   "execution_count": 551,
   "metadata": {},
   "outputs": [],
   "source": [
    "phi = phi_matrix(x,weights,biases,tanh,neurons,collocation)"
   ]
  },
  {
   "cell_type": "code",
   "execution_count": 552,
   "metadata": {},
   "outputs": [],
   "source": [
    "def evaluate_func_approx(x,f, weights, biases, sigma, neurons, collocation,verbose=False):\n",
    "    phi = phi_matrix(x,weights,biases,sigma,neurons,collocation)\n",
    "    f_func = f(x)\n",
    "    a = np.linalg.pinv(phi)@f_func\n",
    "\n",
    "    u = u_nn(x, weights, biases, sigma, collocation,neurons, a)\n",
    "\n",
    "    loss = l2_loss(f_func, u)\n",
    "    if verbose:\n",
    "        print(\"=\"*20)\n",
    "        print(\"Sigma:\", sigma.__name__)\n",
    "        print(\"Number of collocation points:\", collocation)\n",
    "        print(\"Number of neurons:\", neurons)\n",
    "        print(\"L2 Loss:\", loss)\n",
    "        print(\"=\"*20)\n",
    "    return loss"
   ]
  },
  {
   "cell_type": "code",
   "execution_count": 553,
   "metadata": {},
   "outputs": [
    {
     "name": "stdout",
     "output_type": "stream",
     "text": [
      "====================\n",
      "Sigma: tanh\n",
      "Number of collocation points: 100\n",
      "Number of neurons: 5\n",
      "L2 Loss: 10.40852658597921\n",
      "====================\n"
     ]
    }
   ],
   "source": [
    "collocation = 100\n",
    "neurons = 5\n",
    "sigma = tanh\n",
    "x = np.linspace(0,1,collocation)\n",
    "weights = np.random.uniform(-1,1,neurons)\n",
    "biases = np.random.uniform(-1,1,neurons)\n",
    "test = evaluate_func_approx(x,f, weights, biases, sigma, neurons, collocation,verbose=True)"
   ]
  },
  {
   "cell_type": "code",
   "execution_count": 554,
   "metadata": {},
   "outputs": [],
   "source": [
    "import matplotlib.pyplot as plt\n",
    "\n",
    "def compute_loss_values(neurons, collocations, sigmas, verbose=False):\n",
    "    loss_values = []\n",
    "    for sigma in sigmas:\n",
    "        for neuron in neurons:\n",
    "            for collocation in collocations:\n",
    "                x = np.linspace(0, 1, collocation)\n",
    "                weights = np.random.uniform(-1, 1, neuron)\n",
    "                biases = np.random.uniform(-1, 1, neuron)\n",
    "                loss = evaluate_func_approx(x, f, weights, biases, sigma, neuron, collocation, verbose=verbose)\n",
    "                loss_values.append((loss, collocation, neuron, sigma.__name__))  # Add activation function name\n",
    "    return loss_values"
   ]
  },
  {
   "cell_type": "code",
   "execution_count": 564,
   "metadata": {},
   "outputs": [],
   "source": [
    "neurons = list(range(1, 21))\n",
    "sigmas = [tanh,relu,sin_function]\n",
    "collocations = [50]\n",
    "loss_values = compute_loss_values(neurons, collocations,sigmas,verbose=False)"
   ]
  },
  {
   "cell_type": "code",
   "execution_count": 565,
   "metadata": {},
   "outputs": [
    {
     "data": {
      "text/plain": [
       "[(8.885930436727213, 50, 1, 'tanh'),\n",
       " (5.906669850319542, 50, 2, 'tanh'),\n",
       " (5.5962130115527655, 50, 3, 'tanh'),\n",
       " (5.298062522171955, 50, 4, 'tanh'),\n",
       " (5.217904882113145, 50, 5, 'tanh'),\n",
       " (4.365037361744913, 50, 6, 'tanh'),\n",
       " (1.5693364474773004, 50, 7, 'tanh'),\n",
       " (2.7479032091555657, 50, 8, 'tanh'),\n",
       " (0.09421262853416287, 50, 9, 'tanh'),\n",
       " (0.02950656390454867, 50, 10, 'tanh'),\n",
       " (0.005845864795441691, 50, 11, 'tanh'),\n",
       " (0.0003613447299226297, 50, 12, 'tanh'),\n",
       " (0.003684242313894223, 50, 13, 'tanh'),\n",
       " (0.006004402204053347, 50, 14, 'tanh'),\n",
       " (2.6167199406337425e-05, 50, 15, 'tanh'),\n",
       " (7.571405742874123e-05, 50, 16, 'tanh'),\n",
       " (5.5969628150546015e-05, 50, 17, 'tanh'),\n",
       " (4.811707241936971e-05, 50, 18, 'tanh'),\n",
       " (1.9541076050063763e-05, 50, 19, 'tanh'),\n",
       " (3.2544656069793455e-05, 50, 20, 'tanh'),\n",
       " (275.33261291936486, 50, 1, 'relu'),\n",
       " (12.20583467597576, 50, 2, 'relu'),\n",
       " (83.46991678515127, 50, 3, 'relu'),\n",
       " (15.822271654820332, 50, 4, 'relu'),\n",
       " (6.259352705984114, 50, 5, 'relu'),\n",
       " (5.8713871938295625, 50, 6, 'relu'),\n",
       " (4.775894782316857, 50, 7, 'relu'),\n",
       " (4.889938111226417, 50, 8, 'relu'),\n",
       " (4.864195688284181, 50, 9, 'relu'),\n",
       " (5.249196703073178, 50, 10, 'relu'),\n",
       " (5.029971959585612, 50, 11, 'relu'),\n",
       " (4.705691732329268, 50, 12, 'relu'),\n",
       " (2.980558930853384, 50, 13, 'relu'),\n",
       " (4.611185623992872, 50, 14, 'relu'),\n",
       " (4.524438589546663, 50, 15, 'relu'),\n",
       " (5.475529744703756, 50, 16, 'relu'),\n",
       " (2.1524866411003694, 50, 17, 'relu'),\n",
       " (1.3618295549279005, 50, 18, 'relu'),\n",
       " (3.5483476744386766, 50, 19, 'relu'),\n",
       " (3.145675950253282, 50, 20, 'relu'),\n",
       " (174.5924848694457, 50, 1, 'sin_function'),\n",
       " (5.957718675716068, 50, 2, 'sin_function'),\n",
       " (5.704422643391609, 50, 3, 'sin_function'),\n",
       " (5.3156605104719015, 50, 4, 'sin_function'),\n",
       " (5.2428043842015875, 50, 5, 'sin_function'),\n",
       " (4.173427006692454, 50, 6, 'sin_function'),\n",
       " (2.036212706260502, 50, 7, 'sin_function'),\n",
       " (0.8391800222308972, 50, 8, 'sin_function'),\n",
       " (0.13918840663099458, 50, 9, 'sin_function'),\n",
       " (0.32995700747827483, 50, 10, 'sin_function'),\n",
       " (0.044656095914343455, 50, 11, 'sin_function'),\n",
       " (0.22489409773890914, 50, 12, 'sin_function'),\n",
       " (0.04554309884400184, 50, 13, 'sin_function'),\n",
       " (0.04734873850084351, 50, 14, 'sin_function'),\n",
       " (0.04635150865689377, 50, 15, 'sin_function'),\n",
       " (0.044917459442738276, 50, 16, 'sin_function'),\n",
       " (0.045657672006461494, 50, 17, 'sin_function'),\n",
       " (0.04650280574499184, 50, 18, 'sin_function'),\n",
       " (0.04486371051968011, 50, 19, 'sin_function'),\n",
       " (0.04553489102452708, 50, 20, 'sin_function')]"
      ]
     },
     "execution_count": 565,
     "metadata": {},
     "output_type": "execute_result"
    }
   ],
   "source": [
    "loss_values"
   ]
  },
  {
   "cell_type": "code",
   "execution_count": 566,
   "metadata": {},
   "outputs": [
    {
     "name": "stdout",
     "output_type": "stream",
     "text": [
      "Activation Function: tanh\n",
      "# of Collocation points: 50\n",
      "  # of Neurons: 1, Loss: 8.8859304367e+00\n",
      "  # of Neurons: 2, Loss: 5.9066698503e+00\n",
      "  # of Neurons: 3, Loss: 5.5962130116e+00\n",
      "  # of Neurons: 4, Loss: 5.2980625222e+00\n",
      "  # of Neurons: 5, Loss: 5.2179048821e+00\n",
      "  # of Neurons: 6, Loss: 4.3650373617e+00\n",
      "  # of Neurons: 7, Loss: 1.5693364475e+00\n",
      "  # of Neurons: 8, Loss: 2.7479032092e+00\n",
      "  # of Neurons: 9, Loss: 9.4212628534e-02\n",
      "  # of Neurons: 10, Loss: 2.9506563905e-02\n",
      "  # of Neurons: 11, Loss: 5.8458647954e-03\n",
      "  # of Neurons: 12, Loss: 3.6134472992e-04\n",
      "  # of Neurons: 13, Loss: 3.6842423139e-03\n",
      "  # of Neurons: 14, Loss: 6.0044022041e-03\n",
      "  # of Neurons: 15, Loss: 2.6167199406e-05\n",
      "  # of Neurons: 16, Loss: 7.5714057429e-05\n",
      "  # of Neurons: 17, Loss: 5.5969628151e-05\n",
      "  # of Neurons: 18, Loss: 4.8117072419e-05\n",
      "  # of Neurons: 19, Loss: 1.9541076050e-05\n",
      "  # of Neurons: 20, Loss: 3.2544656070e-05\n",
      "Activation Function: relu\n",
      "# of Collocation points: 50\n",
      "  # of Neurons: 1, Loss: 2.7533261292e+02\n",
      "  # of Neurons: 2, Loss: 1.2205834676e+01\n",
      "  # of Neurons: 3, Loss: 8.3469916785e+01\n",
      "  # of Neurons: 4, Loss: 1.5822271655e+01\n",
      "  # of Neurons: 5, Loss: 6.2593527060e+00\n",
      "  # of Neurons: 6, Loss: 5.8713871938e+00\n",
      "  # of Neurons: 7, Loss: 4.7758947823e+00\n",
      "  # of Neurons: 8, Loss: 4.8899381112e+00\n",
      "  # of Neurons: 9, Loss: 4.8641956883e+00\n",
      "  # of Neurons: 10, Loss: 5.2491967031e+00\n",
      "  # of Neurons: 11, Loss: 5.0299719596e+00\n",
      "  # of Neurons: 12, Loss: 4.7056917323e+00\n",
      "  # of Neurons: 13, Loss: 2.9805589309e+00\n",
      "  # of Neurons: 14, Loss: 4.6111856240e+00\n",
      "  # of Neurons: 15, Loss: 4.5244385895e+00\n",
      "  # of Neurons: 16, Loss: 5.4755297447e+00\n",
      "  # of Neurons: 17, Loss: 2.1524866411e+00\n",
      "  # of Neurons: 18, Loss: 1.3618295549e+00\n",
      "  # of Neurons: 19, Loss: 3.5483476744e+00\n",
      "  # of Neurons: 20, Loss: 3.1456759503e+00\n",
      "Activation Function: sin_function\n",
      "# of Collocation points: 50\n",
      "  # of Neurons: 1, Loss: 1.7459248487e+02\n",
      "  # of Neurons: 2, Loss: 5.9577186757e+00\n",
      "  # of Neurons: 3, Loss: 5.7044226434e+00\n",
      "  # of Neurons: 4, Loss: 5.3156605105e+00\n",
      "  # of Neurons: 5, Loss: 5.2428043842e+00\n",
      "  # of Neurons: 6, Loss: 4.1734270067e+00\n",
      "  # of Neurons: 7, Loss: 2.0362127063e+00\n",
      "  # of Neurons: 8, Loss: 8.3918002223e-01\n",
      "  # of Neurons: 9, Loss: 1.3918840663e-01\n",
      "  # of Neurons: 10, Loss: 3.2995700748e-01\n",
      "  # of Neurons: 11, Loss: 4.4656095914e-02\n",
      "  # of Neurons: 12, Loss: 2.2489409774e-01\n",
      "  # of Neurons: 13, Loss: 4.5543098844e-02\n",
      "  # of Neurons: 14, Loss: 4.7348738501e-02\n",
      "  # of Neurons: 15, Loss: 4.6351508657e-02\n",
      "  # of Neurons: 16, Loss: 4.4917459443e-02\n",
      "  # of Neurons: 17, Loss: 4.5657672006e-02\n",
      "  # of Neurons: 18, Loss: 4.6502805745e-02\n",
      "  # of Neurons: 19, Loss: 4.4863710520e-02\n",
      "  # of Neurons: 20, Loss: 4.5534891025e-02\n"
     ]
    }
   ],
   "source": [
    "collocation_loss_data = {collocation: [] for collocation in collocations}\n",
    "\n",
    "for i, (loss, collocation, neuron, activation_func_name) in enumerate(loss_values):\n",
    "    collocation_loss_data[collocation].append((neuron, loss, activation_func_name))\n",
    "\n",
    "for activation_func_name in set(activation_func_name for _, _, _, activation_func_name in loss_values):\n",
    "    print(f\"Activation Function: {activation_func_name}\")\n",
    "    for collocation, data in collocation_loss_data.items():\n",
    "        print(f\"# of Collocation points: {collocation}\")\n",
    "        for neuron, loss, act_func_name in data:\n",
    "            if act_func_name == activation_func_name:\n",
    "                print(f\"  # of Neurons: {neuron}, Loss: {loss:.10e}\")\n"
   ]
  },
  {
   "cell_type": "code",
   "execution_count": 558,
   "metadata": {},
   "outputs": [
    {
     "ename": "ValueError",
     "evalue": "too many values to unpack (expected 3)",
     "output_type": "error",
     "traceback": [
      "\u001b[0;31m---------------------------------------------------------------------------\u001b[0m",
      "\u001b[0;31mValueError\u001b[0m                                Traceback (most recent call last)",
      "Cell \u001b[0;32mIn[558], line 16\u001b[0m\n\u001b[1;32m     13\u001b[0m     plt\u001b[39m.\u001b[39mgrid(\u001b[39mTrue\u001b[39;00m)\n\u001b[1;32m     14\u001b[0m     plt\u001b[39m.\u001b[39mshow()\n\u001b[0;32m---> 16\u001b[0m plot_loss_vs_neurons(loss_values, collocations)\n",
      "Cell \u001b[0;32mIn[558], line 5\u001b[0m, in \u001b[0;36mplot_loss_vs_neurons\u001b[0;34m(loss_values_neuron, collocations)\u001b[0m\n\u001b[1;32m      2\u001b[0m plt\u001b[39m.\u001b[39mfigure(figsize\u001b[39m=\u001b[39m(\u001b[39m10\u001b[39m, \u001b[39m6\u001b[39m))\n\u001b[1;32m      4\u001b[0m \u001b[39mfor\u001b[39;00m collocation \u001b[39min\u001b[39;00m collocations:\n\u001b[0;32m----> 5\u001b[0m     losses \u001b[39m=\u001b[39m [loss \u001b[39mfor\u001b[39;00m loss, col, neuron \u001b[39min\u001b[39;00m loss_values_neuron \u001b[39mif\u001b[39;00m col \u001b[39m==\u001b[39m collocation]\n\u001b[1;32m      6\u001b[0m     neurons \u001b[39m=\u001b[39m [neuron \u001b[39mfor\u001b[39;00m loss, col, neuron \u001b[39min\u001b[39;00m loss_values_neuron \u001b[39mif\u001b[39;00m col \u001b[39m==\u001b[39m collocation]\n\u001b[1;32m      7\u001b[0m     plt\u001b[39m.\u001b[39mplot(neurons, losses, label\u001b[39m=\u001b[39m\u001b[39mf\u001b[39m\u001b[39m'\u001b[39m\u001b[39mCollocation: \u001b[39m\u001b[39m{\u001b[39;00mcollocation\u001b[39m}\u001b[39;00m\u001b[39m'\u001b[39m)\n",
      "Cell \u001b[0;32mIn[558], line 5\u001b[0m, in \u001b[0;36m<listcomp>\u001b[0;34m(.0)\u001b[0m\n\u001b[1;32m      2\u001b[0m plt\u001b[39m.\u001b[39mfigure(figsize\u001b[39m=\u001b[39m(\u001b[39m10\u001b[39m, \u001b[39m6\u001b[39m))\n\u001b[1;32m      4\u001b[0m \u001b[39mfor\u001b[39;00m collocation \u001b[39min\u001b[39;00m collocations:\n\u001b[0;32m----> 5\u001b[0m     losses \u001b[39m=\u001b[39m [loss \u001b[39mfor\u001b[39;00m loss, col, neuron \u001b[39min\u001b[39;00m loss_values_neuron \u001b[39mif\u001b[39;00m col \u001b[39m==\u001b[39m collocation]\n\u001b[1;32m      6\u001b[0m     neurons \u001b[39m=\u001b[39m [neuron \u001b[39mfor\u001b[39;00m loss, col, neuron \u001b[39min\u001b[39;00m loss_values_neuron \u001b[39mif\u001b[39;00m col \u001b[39m==\u001b[39m collocation]\n\u001b[1;32m      7\u001b[0m     plt\u001b[39m.\u001b[39mplot(neurons, losses, label\u001b[39m=\u001b[39m\u001b[39mf\u001b[39m\u001b[39m'\u001b[39m\u001b[39mCollocation: \u001b[39m\u001b[39m{\u001b[39;00mcollocation\u001b[39m}\u001b[39;00m\u001b[39m'\u001b[39m)\n",
      "\u001b[0;31mValueError\u001b[0m: too many values to unpack (expected 3)"
     ]
    },
    {
     "data": {
      "text/plain": [
       "<Figure size 1000x600 with 0 Axes>"
      ]
     },
     "metadata": {},
     "output_type": "display_data"
    }
   ],
   "source": [
    "def plot_loss_vs_neurons(loss_values_neuron, collocations):\n",
    "    plt.figure(figsize=(10, 6))\n",
    "    \n",
    "    for collocation in collocations:\n",
    "        losses = [loss for loss, col, neuron in loss_values_neuron if col == collocation]\n",
    "        neurons = [neuron for loss, col, neuron in loss_values_neuron if col == collocation]\n",
    "        plt.plot(neurons, losses, label=f'Collocation: {collocation}')\n",
    "    \n",
    "    plt.title('Loss vs. Number of Neurons')\n",
    "    plt.xlabel('Number of Neurons')\n",
    "    plt.ylabel('Loss')\n",
    "    plt.legend()\n",
    "    plt.grid(True)\n",
    "    plt.show()\n",
    "    \n",
    "plot_loss_vs_neurons(loss_values, collocations)"
   ]
  },
  {
   "cell_type": "code",
   "execution_count": null,
   "metadata": {},
   "outputs": [
    {
     "data": {
      "image/png": "[encoded data removed]",
      "text/plain": [
       "<Figure size 800x500 with 1 Axes>"
      ]
     },
     "metadata": {},
     "output_type": "display_data"
    },
    {
     "data": {
      "image/png": "[encoded data removed]",
      "text/plain": [
       "<Figure size 800x500 with 1 Axes>"
      ]
     },
     "metadata": {},
     "output_type": "display_data"
    }
   ],
   "source": [
    "def plot_loss_vs_neurons_separate(loss_values_neuron, collocations):\n",
    "    for collocation in collocations:\n",
    "        plt.figure(figsize=(8, 5))\n",
    "        losses = [loss for loss, col, neuron in loss_values_neuron if col == collocation]\n",
    "        neurons = [neuron for loss, col, neuron in loss_values_neuron if col == collocation]\n",
    "        plt.plot(neurons, losses)\n",
    "        plt.title(f'Loss vs. Number of Neurons (Collocation: {collocation})')\n",
    "        plt.xlabel('Number of Neurons')\n",
    "        plt.ylabel('Loss')\n",
    "        plt.grid(True)\n",
    "        plt.show()\n",
    "    \n",
    "plot_loss_vs_neurons_separate(loss_values, collocations)"
   ]
  },
  {
   "attachments": {},
   "cell_type": "markdown",
   "metadata": {},
   "source": [
    "# Building Mass matrix"
   ]
  },
  {
   "cell_type": "code",
   "execution_count": null,
   "metadata": {},
   "outputs": [],
   "source": [
    "# M = mass_matrix(double_neural_net,relu,weights, biases,n)\n",
    "# M"
   ]
  },
  {
   "cell_type": "code",
   "execution_count": null,
   "metadata": {},
   "outputs": [],
   "source": [
    "# np.linalg.det(M)"
   ]
  },
  {
   "cell_type": "code",
   "execution_count": null,
   "metadata": {},
   "outputs": [],
   "source": [
    "# b = b_matrix(b_neural_net,relu,weights, biases,f,n)\n",
    "#b"
   ]
  },
  {
   "cell_type": "code",
   "execution_count": null,
   "metadata": {},
   "outputs": [],
   "source": [
    "# a = np.linalg.solve(M,b)\n",
    "#a"
   ]
  },
  {
   "cell_type": "code",
   "execution_count": null,
   "metadata": {},
   "outputs": [],
   "source": [
    "# x= np.linspace(0,1,n)\n",
    "# u = u_nn(x,weights,biases,sin_function,n,a)"
   ]
  },
  {
   "cell_type": "code",
   "execution_count": null,
   "metadata": {},
   "outputs": [],
   "source": [
    "# u"
   ]
  },
  {
   "cell_type": "code",
   "execution_count": null,
   "metadata": {},
   "outputs": [],
   "source": [
    "# loss = l2_loss(f(x), u)\n",
    "# print(\"L2 Loss:\", loss)"
   ]
  }
 ],
 "metadata": {
  "kernelspec": {
   "display_name": "tf",
   "language": "python",
   "name": "python3"
  },
  "language_info": {
   "codemirror_mode": {
    "name": "ipython",
    "version": 3
   },
   "file_extension": ".py",
   "mimetype": "text/x-python",
   "name": "python",
   "nbconvert_exporter": "python",
   "pygments_lexer": "ipython3",
   "version": "3.10.11"
  },
  "orig_nbformat": 4,
  "vscode": {
   "interpreter": {
    "hash": "6818c013192d840514133cc15ea0bc15bb95d666290febd40d542c4e37363947"
   }
  }
 },
 "nbformat": 4,
 "nbformat_minor": 2
}
